{
 "cells": [
  {
   "cell_type": "markdown",
   "metadata": {},
   "source": [
    "## Import all the necessary packages"
   ]
  },
  {
   "cell_type": "code",
   "execution_count": 1,
   "metadata": {},
   "outputs": [],
   "source": [
    "import tensorflow as tf\n",
    "import numpy as np\n",
    "import pandas as pd\n",
    "import matplotlib.pyplot as plt\n",
    "%matplotlib inline\n",
    "from matplotlib.colors import ListedColormap\n",
    "from random import randint\n",
    "import os\n",
    "import nltk\n",
    "import string\n",
    "\n",
    "from sklearn.feature_extraction.text import CountVectorizer\n",
    "from sklearn.model_selection import cross_val_score\n",
    "from sklearn.model_selection import train_test_split\n",
    "\n",
    "from sklearn import preprocessing\n",
    "from sklearn.preprocessing import LabelEncoder\n",
    "from sklearn.preprocessing import MinMaxScaler\n",
    "from sklearn.preprocessing import StandardScaler\n",
    "\n",
    "from sklearn.metrics import accuracy_score\n",
    "from sklearn.metrics import roc_auc_score\n",
    "from sklearn.metrics import recall_score\n",
    "from sklearn.metrics import precision_score\n",
    "from sklearn.metrics import f1_score\n",
    "from sklearn import metrics\n",
    "\n",
    "from sklearn.linear_model import LogisticRegression\n",
    "from sklearn.neighbors import KNeighborsClassifier\n",
    "from sklearn.naive_bayes import MultinomialNB\n",
    "from sklearn.svm import SVC\n",
    "from sklearn.discriminant_analysis import LinearDiscriminantAnalysis\n",
    "from sklearn.discriminant_analysis import QuadraticDiscriminantAnalysis\n",
    "from sklearn.tree import DecisionTreeClassifier\n",
    "from sklearn.ensemble import RandomForestClassifier, AdaBoostClassifier\n",
    "\n",
    "from tensorflow.keras.layers import Dense\n",
    "from tensorflow.keras.models import Sequential\n",
    "from tensorflow.keras.utils import to_categorical"
   ]
  },
  {
   "cell_type": "markdown",
   "metadata": {},
   "source": [
    "## Import the data"
   ]
  },
  {
   "cell_type": "code",
   "execution_count": 45,
   "metadata": {},
   "outputs": [
    {
     "data": {
      "text/html": [
       "<div>\n",
       "<style scoped>\n",
       "    .dataframe tbody tr th:only-of-type {\n",
       "        vertical-align: middle;\n",
       "    }\n",
       "\n",
       "    .dataframe tbody tr th {\n",
       "        vertical-align: top;\n",
       "    }\n",
       "\n",
       "    .dataframe thead th {\n",
       "        text-align: right;\n",
       "    }\n",
       "</style>\n",
       "<table border=\"1\" class=\"dataframe\">\n",
       "  <thead>\n",
       "    <tr style=\"text-align: right;\">\n",
       "      <th></th>\n",
       "      <th>index</th>\n",
       "      <th>text</th>\n",
       "    </tr>\n",
       "  </thead>\n",
       "  <tbody>\n",
       "    <tr>\n",
       "      <th>0</th>\n",
       "      <td>1</td>\n",
       "      <td>Mmasepala, fa maemo a a kgethegileng a letlele...</td>\n",
       "    </tr>\n",
       "    <tr>\n",
       "      <th>1</th>\n",
       "      <td>2</td>\n",
       "      <td>Uzakwaziswa ngokufaneleko nakungafuneka eminye...</td>\n",
       "    </tr>\n",
       "    <tr>\n",
       "      <th>2</th>\n",
       "      <td>3</td>\n",
       "      <td>Tshivhumbeo tshi fana na ngano dza vhathu.</td>\n",
       "    </tr>\n",
       "    <tr>\n",
       "      <th>3</th>\n",
       "      <td>4</td>\n",
       "      <td>Kube inja nelikati betingevakala kutsi titsini...</td>\n",
       "    </tr>\n",
       "    <tr>\n",
       "      <th>4</th>\n",
       "      <td>5</td>\n",
       "      <td>Winste op buitelandse valuta.</td>\n",
       "    </tr>\n",
       "  </tbody>\n",
       "</table>\n",
       "</div>"
      ],
      "text/plain": [
       "   index                                               text\n",
       "0      1  Mmasepala, fa maemo a a kgethegileng a letlele...\n",
       "1      2  Uzakwaziswa ngokufaneleko nakungafuneka eminye...\n",
       "2      3         Tshivhumbeo tshi fana na ngano dza vhathu.\n",
       "3      4  Kube inja nelikati betingevakala kutsi titsini...\n",
       "4      5                      Winste op buitelandse valuta."
      ]
     },
     "execution_count": 45,
     "metadata": {},
     "output_type": "execute_result"
    }
   ],
   "source": [
    "train_df = pd.read_csv('train_set.csv')\n",
    "test_df = pd.read_csv('test_set.csv')\n",
    "test_df.head()\n",
    "#train_df.head()\n",
    "#train_df['lang_id'].value_counts()"
   ]
  },
  {
   "cell_type": "markdown",
   "metadata": {},
   "source": [
    "## Preprocess the data"
   ]
  },
  {
   "cell_type": "code",
   "execution_count": 33,
   "metadata": {},
   "outputs": [
    {
     "name": "stdout",
     "output_type": "stream",
     "text": [
      "26400\n"
     ]
    }
   ],
   "source": [
    "X_train, X_val, y_train, y_val = train_test_split(train_df['text'],train_df['lang_id'],test_size = 0.2, random_state = 42)\n",
    "print(len(X_train))"
   ]
  },
  {
   "cell_type": "code",
   "execution_count": 34,
   "metadata": {},
   "outputs": [],
   "source": [
    "#\n",
    "vect = CountVectorizer(lowercase=True, max_features=5000, analyzer='word', ngram_range=(1, 2))\n",
    "X_vect = vect.fit_transform(X_train.values.astype(str))\n",
    "X_train = X_vect.toarray()\n",
    "X_val = vect.transform(X_val.values.astype(str)).toarray()"
   ]
  },
  {
   "cell_type": "code",
   "execution_count": 35,
   "metadata": {},
   "outputs": [
    {
     "name": "stdout",
     "output_type": "stream",
     "text": [
      "['aan', 'aan die', 'aan te', 'aansoek', 'aansoek doen', 'aansoeke', 'aanvaar', 'aba', 'ababili', 'abadala', 'abafundi', 'abalimi', 'abalingani', 'abantu', 'abantwana', 'abanye', 'abaphathi', 'abasebenza', 'abasebenzi', 'abazali', 'abe', 'abo', 'about', 'above', 'access', 'access to', 'accordance', 'accordance with', 'account', 'accused', 'act', 'act act', 'act and', 'act no', 'act of', 'action', 'additional', 'address', 'administration', 'af', 'afake', 'afanele', 'afe', 'affairs', 'afho', 'aforika', 'aforika borwa', 'africa', 'african', 'afrika', 'afrika borwa', 'afrika dzonga', 'afrika tshipembe', 'afrikaanse', 'after', 'after the', 'afurika', 'afurika tshipembe', 'aga', 'against', 'agreement', 'aids', 'aka', 'akaretsa', 'akaretša', 'akaretšwa', 'akekho', 'akhawunti', 'akhe', 'akho', 'akhona', 'akukho', 'al', 'al die', 'algemene', 'all', 'alle', 'almal', 'also', 'ama', 'amabili', 'amagadango', 'amagama', 'amahlelo', 'amalanga', 'amalimi', 'amalunga', 'amalungelo', 'amalungu', 'amana', 'amanago', 'amanago le', 'amanang', 'amanang le', 'amandla', 'amanengi', 'amang', 'amanyathelo', 'amanye', 'amanzi', 'amathathu', 'amathuba', 'amaxesha', 'amaziko', 'amazinga', 'amazwe', 'amba', 'amba uri', 'amegago', 'amehang', 'amended', 'amendment', 'amogela', 'amogelwa', 'amohela', 'amount', 'amukela', 'amukeriwa', 'an', 'ana', 'anc', 'and', 'and in', 'and other', 'and the', 'and to', 'ander', 'ane', 'ane khou', 'ane vha', 'angeke', 'angeze', 'another', 'antswa', 'antswisa', 'any', 'any other', 'any person', 'ao', 'apha', 'apho', 'applicant', 'application', 'apply', 'appointed', 'appropriate', 'approval', 'approved', 'arali', 'arali hu', 'arali vha', 'are', 'area', 'areas', 'artikel', 'artikel van', 'as', 'as die', 'as gevolg', 'as jy', 'as the', 'as well', 'asekelwa', 'asook', 'assembly', 'assist', 'at', 'at per', 'at the', 'aterese', 'athu', 'auditor', 'august', 'authority', 'available', 'avho', 'awa', 'aya', 'ayo', 'aze', 'ba', 'ba afrika', 'ba ba', 'ba babedi', 'ba bang', 'ba bangwe', 'ba be', 'ba bona', 'ba di', 'ba go', 'ba hae', 'ba ho', 'ba hore', 'ba ile', 'ba ka', 'ba kgone', 'ba le', 'ba leloko', 'ba lokela', 'ba mo', 'ba na', 'ba nang', 'ba ne', 'ba rona', 'ba sa', 'ba se', 'ba swanetše', 'ba teng', 'ba tla', 'ba tshwanetse', 'baagi', 'baagi ba', 'baahi', 'baahi ba', 'baba', 'babe', 'babedi', 'babo', 'badela', 'badiredi', 'badiri', 'badiri ba', 'badirisi', 'baemedi', 'baemedi ba', 'bafana', 'bafundzi', 'bago', 'baie', 'baithuti', 'baithuti ba', 'baka', 'baka la', 'bakeng', 'bakeng sa', 'bakhe', 'bakho', 'bala', 'balekane', 'balemi', 'bana', 'bana ba', 'bang', 'bangwe', 'bangwe ba', 'bank', 'banka', 'banna', 'bantfu', 'bantfwana', 'bao', 'bao ba', 'bareki', 'basadi', 'basadi ba', 'basebenti', 'basebetsi', 'basebetsi ba', 'based', 'baseningizimu', 'baseningizimu afrika', 'basis', 'baswa', 'batho', 'batho ba', 'batho bao', 'batho ka', 'bathong', 'batjha', 'batla', 'batla ho', 'batlang', 'batsi', 'batswadi', 'baya', 'baye', 'bayo', 'bašomi', 'be', 'be le', 'bea', 'beampte', 'bedrae', 'bedrag', 'bedryf', 'been', 'before', 'before the', 'begin', 'bego', 'begodu', 'begroting', 'beheer', 'behoort', 'beilwego', 'beilweng', 'being', 'beke', 'belangrik', 'beleid', 'beng', 'beng ba', 'bepaal', 'bepalings', 'bese', 'beskikbaar', 'besluit', 'besoek', 'besonderhede', 'bestaan', 'bestuur', 'betaal', 'beter', 'betrekking', 'betrokke', 'between', 'bewa', 'bi', 'bied', 'bile', 'bile le', 'bili', 'bill', 'billion', 'bindu', 'bindzu', 'binne', 'binne die', 'bja', 'bja go', 'bjale', 'bjalo', 'bjalo ka', 'bjo', 'bjo bo', 'black', 'bly', 'bo', 'bo bo', 'bo botle', 'bo ka', 'bo le', 'board', 'bobabili', 'bobedi', 'boditšhabatšhaba', 'bodo', 'bodulo', 'body', 'boela', 'boemedi', 'boemo', 'boemo ba', 'boemong', 'boemong ba', 'bofelo', 'bogolo', 'bohlatse', 'bohle', 'bohle ba', 'bohloko', 'bohlokwa', 'boholo', 'boikarabelo', 'boikarabelo ba', 'boikuelo', 'boima', 'boitekanelo', 'boitekanelo le', 'boitshwaro', 'boke', 'bokgoni', 'bokgoni ba', 'bokgoni bja', 'bokgoni jwa', 'bokone', 'bokone bophirima', 'bolaodi', 'bolaodi bo', 'bolaya', 'bolela', 'boleng', 'boleng ba', 'boletsweng', 'boloka', 'bolwetši', 'bombuso', 'bomzantsi', 'bomzantsi afrika', 'bona', 'bona ba', 'bona go', 'bona ka', 'bona le', 'bonako', 'bone', 'bong', 'bongaka', 'bongata', 'bonke', 'bonkhe', 'bonnete', 'bonnete ba', 'bonolo', 'bontsha', 'bontsi', 'bontšha', 'bontši', 'bonwa', 'bonyana', 'boo', 'bopa', 'bopaki', 'bophara', 'bophelo', 'bophelo bo', 'bophirima', 'bophirima ybb', 'boraro', 'borwa', 'borwa ka', 'borwa le', 'bosenyi', 'bosetšhaba', 'bosetšhaba le', 'bosiamisi', 'both', 'bothata', 'bothati', 'botho', 'botjha', 'botlalo', 'botle', 'botlhe', 'botlhe ba', 'botlhokwa', 'boto', 'botsamaisi', 'botse', 'bring', 'bua', 'budget', 'bufakazi', 'bula', 'bulwaho', 'business', 'but', 'buthano', 'bva', 'bva kha', 'bvaho', 'bvaho kha', 'bveledza', 'bveledzwa', 'bvelela', 'bvisa', 'bviswa', 'by', 'by die', 'by the', 'bya', 'byi', 'byo', 'byvoorbeeld', 'can', 'capacity', 'cape', 'capital', 'care', 'case', 'cases', 'cbnrm', 'cent', 'centre', 'certificate', 'cha', 'chairperson', 'chapter', 'chief', 'child', 'children', 'cinca', 'close', 'co', 'commission', 'commissioner', 'committee', 'community', 'companies', 'company', 'concerned', 'conditions', 'conduct', 'constitution', 'contemplated', 'contemplated in', 'continue', 'control', 'convention', 'corporation', 'costs', 'council', 'country', 'court', 'courts', 'crime', 'criminal', 'cup', 'current', 'daar', 'daar is', 'daardie', 'daarop', 'daarvan', 'dac', 'dae', 'dag', 'dan', 'dat', 'dat die', 'data', 'date', 'date of', 'datum', 'day', 'days', 'de', 'decision', 'deel', 'deel van', 'departement', 'departement van', 'department', 'department of', 'departments', 'deputy', 'designated', 'determine', 'determined', 'deur', 'deur die', 'development', 'di', 'di farologaneng', 'di ka', 'di le', 'di na', 'di sa', 'di se', 'di swanetše', 'di tla', 'di tshwanetse', 'dibaka', 'dibakeng', 'dibjalo', 'didirišwa', 'die', 'die aansoek', 'die betrokke', 'die datum', 'die departement', 'die eerste', 'die land', 'die meeste', 'die munisipaliteit', 'die nasionale', 'die noordwes', 'die nuwe', 'die persoon', 'die provinsiale', 'die provinsie', 'die raad', 'die reg', 'die regering', 'die suid', 'die volgende', 'die wes', 'die wet', 'diens', 'dienste', 'dieselfde', 'dife', 'diforomo', 'dihlopha', 'dijalo', 'dijo', 'dijothollo', 'dikamano', 'dikarolo', 'diketsahalo', 'dikgato', 'dikgetho', 'dikgopolo', 'dikgwebo', 'dikgwedi', 'dikolo', 'dikomiti', 'dikopano', 'dikopo', 'dikotsi', 'dilemo', 'dilemo tse', 'dilemong', 'dilo', 'dimela', 'dimilione', 'dinaga', 'dinaha', 'dinako', 'dinamelwa', 'ding', 'dingwaga', 'dingwaga di', 'dingwe', 'dingwe le', 'dingwe tse', 'dingwe tša', 'dintho', 'dintho tse', 'dintlha', 'dintlha tsa', 'dintlha tse', 'dintsi', 'dinyakišišo', 'dinyakwa', 'dinyakwa tša', 'dipapadi', 'dipatlisiso', 'dipehelo', 'dipehelo tsa', 'diphetho', 'diphetogo', 'diphoofolo', 'diphoso', 'dipoelo', 'dipolelo', 'diporofense', 'dipotso', 'diprofense', 'dipuo', 'dipuo tsa', 'dipuo tse', 'diqeto', 'dira', 'dira gore', 'dira kopo', 'diragatsa', 'dirago', 'dirang', 'dire', 'director', 'direkoto', 'dirile', 'dirilweng', 'dirisa', 'dirisiwa', 'diriša', 'dirwa', 'dirwa ka', 'disebediswa', 'dit', 'dit is', 'ditaba', 'ditaba tsa', 'ditaelo', 'ditefelo', 'ditekanyetso', 'diteko', 'diteng', 'dithata', 'ditheo', 'ditheo tsa', 'ditherisano', 'ditho', 'ditho tsa', 'dithoto', 'dithulaganyo', 'dithuso', 'dithuto', 'ditiragalo', 'ditirelo', 'ditirelo tsa', 'ditirelo tša', 'ditiro', 'ditiro tsa', 'ditjhelete', 'ditlamelo', 'ditlamorago', 'ditlhokego', 'ditlhokego tsa', 'ditlhoko', 'ditlhoko tsa', 'ditlhopha', 'ditokelo', 'ditokelo tsa', 'ditokelo tša', 'ditokololo', 'ditokomane', 'ditsela', 'ditshebeletso', 'ditshebeletso tsa', 'ditshenyegelo', 'ditshiamelo', 'ditshwanelo', 'ditshwanelo tsa', 'ditšhaba', 'ditšhelete', 'division', 'dié', 'do', 'documents', 'doel', 'doen', 'doen om', 'does', 'does not', 'dovha', 'dovha hafhu', 'dr', 'drie', 'dti', 'du', 'due', 'dula', 'dumela', 'dumelela', 'dumella', 'during', 'during the', 'dus', 'dyondza', 'dyondzo', 'dza', 'dza tshiofisi', 'dza vha', 'dzangano', 'dzavho', 'dzhena', 'dzhia', 'dzhiela', 'dzhielwa', 'dzi', 'dzi tea', 'dzilafho', 'dzina', 'dzine', 'dzine dza', 'dziṅwe', 'dzo', 'dzonga', 'dzoṱhe', 'dzula', 'ea', 'each', 'eafrika', 'eafrika dzonga', 'eba', 'ebantwini', 'ebe', 'ebekwe', 'ebile', 'ebujameni', 'economic', 'education', 'ee', 'een', 'een van', 'eerste', 'efanele', 'efaneleko', 'efe', 'efe goba', 'efe kapa', 'efe ya', 'effect', 'effective', 'egameni', 'egter', 'ehandle', 'ehansi', 'ehansi ka', 'ehenhla', 'ehenhla ka', 'ehhovisi', 'eie', 'eiendom', 'einde', 'eis', 'ek', 'eka', 'eka ku', 'eka nkarhi', 'eka xiyenge', 'eka xiyimo', 'ekhatsi', 'ekhaya', 'ekhotho', 'ekonomi', 'ekonomie', 'ekonomiese', 'eku', 'ekubeni', 'ekufuneka', 'ekufuze', 'ekugcineni', 'ekulu', 'ekupheleni', 'ekwenzeni', 'ela', 'ela hloko', 'eli', 'elikhulu', 'elinye', 'eliphezulu', 'elke', 'elo', 'ema', 'emagama', 'emahlweni', 'emahlweni ka', 'emalunga', 'emandla', 'emanti', 'ematfuba', 'embili', 'emela', 'emhlabeni', 'emhlanganweni', 'emihlanu', 'eminyakeni', 'eminye', 'emithathu', 'emkhatsini', 'emnyangweni', 'empa', 'emphakathini', 'employment', 'emsebentini', 'emsebenzini', 'emthethweni', 'emtjhadweni', 'emuva', 'emva', 'emva kokuba', 'emzantsi', 'emzantsi afrika', 'en', 'en ander', 'en die', 'en dit', 'en in', 'en om', 'en wat', 'ena', 'ena le', 'ena ya', 'enarheni', 'end', 'endaweni', 'endla', 'endla leswaku', 'endla xikombelo', 'endlaka', 'endlela', 'endlelo', 'endliwa', 'endzaweni', 'endzhaku', 'endzhaku ka', 'endzhaku ko', 'ene', 'energy', 'eng', 'engetela', 'enhlokweni', 'enige', 'eningizimu', 'eningizimu afrika', 'enkantolo', 'enkulu', 'eno', 'ensure', 'ensure that', 'entsweng', 'enye', 'enze', 'eo', 'eo ho', 'epa', 'ephathelene', 'esele', 'esewula', 'esewula afrika', 'esi', 'eside', 'esigabeni', 'esikhathini', 'esikhundleni', 'esinye', 'eso', 'established', 'ethi', 'ethile', 'etikweni', 'etsa', 'etsa bonnete', 'etsa hore', 'etsa kopo', 'etsang', 'etse', 'etswa', 'etswe', 'eupša', 'every', 'evidence', 'executive', 'exikarhi', 'exikarhi ka', 'expenditure', 'eya', 'ezi', 'ezifana', 'ezifanele', 'ezimbili', 'ezindaweni', 'ezingama', 'ezingeni', 'ezingu', 'eziningi', 'ezintathu', 'ezinye', 'eziphathelene', 'ezithile', 'ezo', 'fa', 'fa go', 'fa le', 'fa tlase', 'famba', 'fambisa', 'fana', 'fana ka', 'fana na', 'fanaho', 'fanela', 'fanele', 'fanele ku', 'faneleke', 'faneleke ku', 'fao', 'fapafapana', 'fapana', 'fapaneng', 'fara', 'farologaneng', 'fase', 'fatshe', 'fe', 'fe goba', 'feela', 'fela', 'fela go', 'fela ka', 'feta', 'fetang', 'fetileng', 'fetola', 'fhambanaho', 'fhasi', 'fhasi ha', 'fhaṱa', 'fhedza', 'fhedzi', 'fhela', 'fhela maḓuvha', 'fhelisa', 'fhethu', 'fhira', 'fhiraho', 'fifa', 'fihla', 'fihlela', 'fihlelela', 'fihlella', 'fika', 'fikela', 'fikelela', 'filwego', 'finance', 'financial', 'financial statements', 'financial year', 'finansiële', 'first', 'fitlhelela', 'fiwa', 'fokotsa', 'fokotša', 'fomo', 'fomo ya', 'fonds', 'for', 'for the', 'form', 'foromo', 'foromo ya', 'framework', 'free', 'from', 'from the', 'fumana', 'functions', 'fund', 'funds', 'further', 'futhi', 'futsi', 'fuwa', 'ga', 'ga ba', 'ga di', 'ga ge', 'ga go', 'ga le', 'ga molao', 'ga se', 'gaan', 'gabotse', 'gae', 'gago', 'gago ya', 'gagwe', 'gale', 'gammogo', 'gammogo le', 'gantši', 'gape', 'gape le', 'gare', 'gare ga', 'gaufi', 'gauteng', 'gazette', 'ge', 'ge ba', 'ge go', 'ge ka', 'ge le', 'gebied', 'gebruik', 'gebruik word', 'gedoen', 'gedurende', 'gee', 'geen', 'geld', 'geleentheid', 'gemaak', 'gemeenskap', 'gemeenskappe', 'gems', 'geneem', 'general', 'genoem', 'geregistreer', 'gesondheid', 'gestel', 'geval', 'gevalle', 'gevolg', 'gezi', 'give', 'given', 'go', 'go aga', 'go akaretšwa', 'go amogela', 'go ba', 'go be', 'go bona', 'go di', 'go dira', 'go diragatsa', 'go dirisa', 'go diriša', 'go dirwa', 'go epa', 'go fa', 'go fapafapana', 'go fapana', 'go feta', 'go fihla', 'go fihlelela', 'go fitlhelela', 'go go', 'go hwetša', 'go ithuta', 'go ka', 'go karolo', 'go kwala', 'go laola', 'go latela', 'go le', 'go lemoga', 'go mo', 'go na', 'go netefatsa', 'go netefatša', 'go ngwala', 'go nna', 'go re', 'go romela', 'go ruta', 'go sa', 'go se', 'go sekaseka', 'go swana', 'go thibela', 'go thusa', 'go thuša', 'go tla', 'go tlamela', 'go tlhokega', 'go tloga', 'go tsaya', 'go tsenya', 'go tshwanetse', 'go tswa', 'go tsweletsa', 'go tšea', 'go tšwa', 'go tšweletša', 'go ya', 'go yona', 'go šoma', 'go šomiša', 'goba', 'goba efe', 'goba fe', 'goba go', 'goba ka', 'godimo', 'godimo ga', 'godu', 'goed', 'goeie', 'goga', 'goloi', 'gomme', 'gona', 'gona go', 'gongwe', 'gongwe go', 'good', 'goods', 'gore', 'gore ba', 'gore di', 'gore ga', 'gore go', 'gore ka', 'gore ke', 'gore le', 'gore re', 'gore se', 'gov', 'gov za', 'government', 'grain', 'groei', 'groep', 'grond', 'grondwet', 'groot', 'growth', 'gwa', 'ha', 'ha ba', 'ha di', 'ha eba', 'ha ho', 'ha jwale', 'ha ke', 'ha le', 'ha mulayo', 'ha musi', 'ha re', 'ha se', 'ha tshoṱhe', 'ha vha', 'ha vhathu', 'haar', 'had', 'hae', 'haeba', 'hafhu', 'haholo', 'hakela', 'hakeriwa', 'hambana', 'hambi', 'hammoho', 'hammoho le', 'handle', 'handle ka', 'hang', 'hani', 'hansi', 'hanteer', 'hantle', 'hao', 'hape', 'hape le', 'hara', 'has', 'has been', 'hava', 'have', 'have been', 'havho', 'hayi', 'he', 'head', 'health', 'hei', 'hela', 'held', 'help', 'henhla', 'her', 'het', 'het die', 'het en', 'het nie', 'het om', 'hetiseka', 'heyi', 'hezwi', 'hezwi zwi', 'hi', 'hi ku', 'hi laha', 'hi leswi', 'hi nawu', 'hi ndlela', 'hi nga', 'hi nkarhi', 'hi ta', 'hi yona', 'hier', 'hierdie', 'high', 'higher', 'hikokwalaho', 'hikuva', 'hikwalaho', 'hikwalaho ka', 'hilaha', 'him', 'hina', 'hinkwaswo', 'hinkwato', 'hinkwavo', 'hinkwawo', 'hinkwayo', 'his', 'his or', 'hiv', 'hiv aids', 'hlahisa', 'hlalosa', 'hlama', 'hlamula', 'hlamusela', 'hlangana', 'hlawula', 'hlaya', 'hlayisa', 'hlobo', 'hlohleletša', 'hloka', 'hlokang', 'hlokehang', 'hloko', 'hlokomela', 'hlola', 'hloma', 'ho', 'ho ba', 'ho be', 'ho bona', 'ho etsa', 'ho etswa', 'ho fana', 'ho feta', 'ho fihlela', 'ho fihlella', 'ho fumana', 'ho hlahisa', 'ho hlokomela', 'ho ithuta', 'ho ka', 'ho latela', 'ho le', 'ho na', 'ho netefatsa', 'ho sa', 'ho se', 'ho sebedisa', 'ho sebetsa', 'ho tla', 'ho tloha', 'ho tswa', 'ho ya', 'hoba', 'hobane', 'hodima', 'hodimo', 'hoe', 'hof', 'hofisi', 'hofisi ya', 'holobye', 'hom', 'hon', 'hona', 'hona ho', 'hone', 'hoo', 'hoof', 'hore', 'hore ba', 'hore ha', 'hore ho', 'hore ke', 'hore re', 'hou', 'house', 'housing', 'however', 'hu', 'hu na', 'hu nga', 'hu saathu', 'hu si', 'hu tshi', 'hu vhe', 'huidige', 'hul', 'hulle', 'hulumende', 'huma', 'huma eka', 'human', 'humbela', 'humelela', 'huna', 'hundza', 'hune', 'hune ha', 'hune zwa', 'huvo', 'huvo ya', 'hwetša', 'hy', 'hê', 'ibe', 'ibhizinisi', 'ibhodi', 'ibhunga', 'icala', 'icandelo', 'icd', 'id', 'idp', 'iemand', 'if', 'if the', 'ifa', 'ifomu', 'igama', 'igosa', 'igunya', 'ihlangano', 'ihlelo', 'ii', 'iii', 'iimbawo', 'iincwadi', 'iindaba', 'iindawo', 'iindleko', 'iindlela', 'iinhlangano', 'iinkcukacha', 'iinkonzo', 'iinkqubo', 'iintsuku', 'iinyanga', 'ikakhulukati', 'ikakhulukazi', 'ikambiso', 'ikemetseng', 'ikgethang', 'ikhonomi', 'ikhophi', 'ikhotho', 'ikomiti', 'ikonomi', 'ilanga', 'ile', 'ile ba', 'ile ya', 'ileng', 'ilunga', 'ilungelo', 'ilungu', 'ilwazi', 'imali', 'imbongi', 'imibandela', 'imibono', 'imibuzo', 'imigomo', 'imihlangano', 'imininingwana', 'imininingwane', 'iminyaka', 'iminyango', 'imiphumela', 'imisebenti', 'imisebenzi', 'imithetho', 'imithombo', 'impahla', 'imphahla', 'imphilo', 'implementation', 'imprisonment', 'imvume', 'imvumo', 'in', 'in accordance', 'in die', 'in hierdie', 'in order', 'in respect', 'in section', 'in south', 'in staat', 'in subsection', 'in suid', 'in te', 'in terms', 'in the', 'in this', 'in writing', 'inani', 'inarha', 'include', 'including', 'including the', 'increase', 'incwadi', 'indaba', 'indawo', 'indien', 'indien die', 'indima', 'indlela', 'indlu', 'industry', 'indvuna', 'indzaba', 'indzawo', 'ine', 'ine ya', 'information', 'infrastructure', 'ingaba', 'ingane', 'ingevolge', 'ingxelo', 'ingxenye', 'inhlangano', 'inhloko', 'inhloso', 'iningizimu', 'iningizimu afrika', 'injongo', 'inkantolo', 'inkomste', 'inkqubo', 'inkundla', 'inkxaso', 'inligting', 'inombolo', 'inqubo', 'institution', 'institutions', 'interest', 'international', 'into', 'investigation', 'inxaxheba', 'inyanga', 'inzuzo', 'ipahla', 'iphepha', 'iqhaza', 'irekhodi', 'is', 'is dat', 'is die', 'is dit', 'is en', 'is in', 'is nie', 'is not', 'is om', 'is ook', 'is the', 'is to', 'is vir', 'is wat', 'isa', 'isa phanḓa', 'isaziso', 'ise', 'isebe', 'isibawo', 'isibonelo', 'isicelo', 'isigaba', 'isigqibo', 'isikhathi', 'isikhulu', 'isikhundla', 'isilinganiso', 'isimo', 'isinqumo', 'isiqhema', 'isiqinisekiso', 'isiqiniseko', 'isiqunto', 'isisebenzi', 'isithuthi', 'isivumelwano', 'issue', 'issued', 'issues', 'it', 'it is', 'ita', 'ita khumbelo', 'ita uri', 'ite', 'itela', 'itela uri', 'ithuba', 'ithuta', 'its', 'itse', 'itseng', 'itwa', 'itwa nga', 'itwaho', 'itšego', 'iv', 'iwe', 'ixesha', 'iya', 'iye', 'iyi', 'iyiphi', 'iyo', 'izenzo', 'izicelo', 'izidingo', 'iziko', 'izimali', 'izindawo', 'izindlela', 'izindlu', 'izinga', 'izingane', 'izinhlelo', 'izinsuku', 'izinto', 'izinyathelo', 'izixhobo', 'izizathu', 'izwi', 'izwi zwi', 'iṅwe', 'ja', 'jaaka', 'jaaka go', 'jaana', 'jaanong', 'jaar', 'jalo', 'jang', 'jikelele', 'jo', 'jo bo', 'johannesburg', 'jou', 'june', 'justice', 'jwa', 'jwa go', 'jwale', 'jwale ke', 'jwalo', 'jwalo ka', 'jwang', 'jy', 'jy die', 'jy kan', 'ka', 'ka afrika', 'ka ba', 'ka bago', 'ka baka', 'ka bang', 'ka bobedi', 'ka bonako', 'ka bophara', 'ka botlalo', 'ka di', 'ka dinako', 'ka dintlha', 'ka dira', 'ka fa', 'ka fao', 'ka ga', 'ka gare', 'ka ge', 'ka go', 'ka gona', 'ka gore', 'ka ha', 'ka hara', 'ka ho', 'ka hodimo', 'ka jalo', 'ka kakaretso', 'ka karolo', 'ka ku', 'ka la', 'ka le', 'ka lebaka', 'ka loko', 'ka lona', 'ka mabaka', 'ka mehla', 'ka mo', 'ka moka', 'ka mokgwa', 'ka molao', 'ka moo', 'ka mora', 'ka morago', 'ka nako', 'ka nawu', 'ka ngwaga', 'ka nna', 'ka nnete', 'ka nngwe', 'ka no', 'ka ntle', 'ka ntlha', 'ka se', 'ka sehloohong', 'ka teng', 'ka thoko', 'ka tlase', 'ka tsela', 'ka tshwanelo', 'ka tsona', 'ka umthetho', 'ka wa', 'ka xiyenge', 'ka ya', 'ka yona', 'kaap', 'kaapse', 'kaapstad', 'kabelo', 'kabi', 'kabo', 'kabusha', 'kae', 'kago', 'kahle', 'kahulumeni', 'kakaretso', 'kakaretšo', 'kakhulu', 'kakuhle', 'kala', 'kalafi', 'kalafo', 'kale', 'kalula', 'kamasipala', 'kambe', 'kambela', 'kamogelo', 'kan', 'kan die', 'kan word', 'kana', 'kana go', 'kana nga', 'kana vha', 'kancane', 'kang', 'kanjalo', 'kanjani', 'kanti', 'kantoor', 'kantoro', 'kantoro ya', 'kantorong', 'kantsi', 'kanye', 'kaofela', 'kaonafatša', 'kapa', 'kapa ba', 'kapa efe', 'kapa ho', 'kapa ka', 'kapa ofe', 'kapa ya', 'karabo', 'karhi', 'karhulumende', 'karhulumente', 'karolo', 'karolo ya', 'karolong', 'karolong ya', 'karolwana', 'karolwana ya', 'karolwaneng', 'karolwaneng ya', 'katela', 'katelwa', 'katiso', 'katlego', 'katsa', 'kaya', 'kazwelonke', 'ke', 'ke ba', 'ke batho', 'ke go', 'ke gore', 'ke ho', 'ke hore', 'ke ka', 'ke ke', 'ke molao', 'ke motho', 'ke ne', 'ke sa', 'ke tla', 'ke wa', 'ke ya', 'kelo', 'kena', 'kennis', 'kenya', 'kenyeletsa', 'kepha', 'key', 'kgahlanong', 'kgahlanong le', 'kgale', 'kgaolo', 'kgatelelo', 'kgatlhanong', 'kgatlhanong le', 'kgato', 'kgauswi', 'kgetha', 'kgetho', 'kgetho ya', 'kgethollo', 'kgetse', 'kgolo', 'kgolo ya', 'kgona', 'kgona go', 'kgona ho', 'kgonang', 'kgone', 'kgone go', 'kgone ho', 'kgonthiša', 'kgontsha', 'kgopela', 'kgopelo', 'kgopelo ya', 'kgoro', 'kgoro ya', 'kgorotsheko', 'kgothaletsa', 'kgotlatshekelo', 'kgotsa', 'kgotsa go', 'kgwebo', 'kgwebo le', 'kgwebo ya', 'kgwedi', 'kgwedi le', 'kha', 'kha khethekanyo', 'kha muhasho', 'kha vha', 'kha zwa', 'khale', 'khampani', 'khamphani', 'khansele', 'khansele ya', 'khathihi', 'khathihi na', 'khethekanyo', 'khethekanyo ya', 'khetho', 'khombo', 'khomishene', 'khomishini', 'khomišene', 'khomišene ya', 'khona', 'khophi', 'khopi', 'khoro', 'khoro ya', 'khorotshitumbe', 'khothe', 'khothe ya', 'khoto', 'khoto ya', 'khotsi', 'khou', 'khoudu', 'khoutu', 'khulu', 'khulwane', 'khumbelo', 'khumbelo ya', 'khumbula', 'khwinisa', 'kind', 'kinders', 'kitsiso', 'kitso', 'kiwo', 'ko', 'kobana', 'kobanyana', 'kodvwa', 'kodwa', 'kodwa ke', 'kodwana', 'koko', 'kokuba', 'kokuphela', 'kokuthi', 'koloi', 'koloni', 'kom', 'komba', 'kombela', 'kombisa', 'komhlaba', 'komitee', 'komiti', 'komiti ya', 'kommersiële', 'komphakathi', 'komsebenzi', 'komthetho', 'komunye', 'kona', 'kona eka', 'konadzea', 'kone', 'kongoma', 'konke', 'konkhe', 'kopa', 'kopana', 'kopaneng', 'kopano', 'kopano ya', 'kopanong', 'kopo', 'kopo ya', 'koste', 'kota', 'kota ku', 'kotsi', 'kragtens', 'kry', 'ku', 'ku antswisa', 'ku cinca', 'ku endla', 'ku endlela', 'ku endliwa', 'ku fana', 'ku fika', 'ku fikela', 'ku fikelela', 'ku hambana', 'ku hava', 'ku hlamula', 'ku katsa', 'ku kuma', 'ku landza', 'ku na', 'ku nga', 'ku nghenisa', 'ku nyika', 'ku pfuna', 'ku ri', 'ku ringana', 'ku suka', 'ku sukela', 'ku sungula', 'ku ta', 'ku tirha', 'ku tirhisa', 'ku tirhisiwa', 'ku tiyisisa', 'ku tlula', 'ku twisisa', 'ku va', 'ku vona', 'ku ya', 'kua', 'kuba', 'kubalulekile', 'kubantu', 'kube', 'kubo', 'kubona', 'kucinisekisa', 'kudla', 'kudu', 'kufaka', 'kufaka ekhatsi', 'kufanele', 'kufuneka', 'kufuze', 'kufuze bona', 'kuhle', 'kukho', 'kukhona', 'kula', 'kule', 'kuleyo', 'kulo', 'kulowo', 'kulwazi', 'kuma', 'kumbe', 'kumbe ku', 'kumeka', 'kumele', 'kungaba', 'kungakapheli', 'kungakapheli amalanga', 'kungenteka', 'kungenzeka', 'kunjalo', 'kunobe', 'kunyaka', 'kunye', 'kuphela', 'kuquka', 'kurisa', 'kurisa swimila', 'kusebenta', 'kusebentisa', 'kusetjentiswa', 'kusho', 'kushumele', 'kuso', 'kusukela', 'kutani', 'kute', 'kutfola', 'kuthi', 'kutjho', 'kuto', 'kutsi', 'kuwe', 'kuwo', 'kuya', 'kuye', 'kuyenteka', 'kuyo', 'kuze', 'kuzo', 'kwa', 'kwa go', 'kwa godimo', 'kwa ntle', 'kwaba', 'kwabantu', 'kwabasebenzi', 'kwabo', 'kwadilweng', 'kwakhe', 'kwakho', 'kwakhona', 'kwakunye', 'kwala', 'kwale', 'kwalo', 'kwalo mthetho', 'kwalokho', 'kwalomtsetfo', 'kwama', 'kwamandla', 'kwamanzi', 'kwano', 'kwaphela', 'kwawo', 'kwaye', 'kwayo', 'kwazo', 'kwe', 'kwekucala', 'kwekutsi', 'kweli', 'kwelinye', 'kwemali', 'kweminyaka', 'kwemisebenzi', 'kwemsebenti', 'kwemvume', 'kwenta', 'kwentiwe', 'kwenza', 'kwenzeka', 'kwenziwa', 'kwenziwe', 'kwesi', 'kwesigaba', 'kwesikhathi', 'kwethu', 'kwezinye', 'kwi', 'kwicandelo', 'kwimeko', 'kwindawo', 'kwinkqubo', 'la', 'la bosetšhaba', 'la gago', 'la go', 'la ho', 'la naha', 'laat', 'laba', 'labantu', 'labanye', 'labo', 'labour', 'laela', 'laesense', 'laetša', 'laha', 'laha ku', 'laha swi', 'lakhe', 'lakho', 'lama', 'lama nga', 'land', 'landbou', 'landza', 'landza nawu', 'landzelaka', 'landzelela', 'langu', 'languta', 'laola', 'laolwa', 'lapeng', 'lapha', 'lapho', 'latela', 'latelago', 'latelang', 'latelwa', 'lava', 'lava ku', 'lava nga', 'lava va', 'lavaka', 'laveka', 'lavekaka', 'law', 'lawa', 'lawa ya', 'lawo', 'laya', 'layisense', 'le', 'le ba', 'le bana', 'le batho', 'le boikarabelo', 'le bokgoni', 'le bona', 'le dintlha', 'le fa', 'le ge', 'le go', 'le gona', 'le gore', 'le ha', 'le henhla', 'le ho', 'le hore', 'le jwalo', 'le ka', 'le kapa', 'le karolo', 'le kwa', 'le le', 'le leng', 'le lengwe', 'le mabaka', 'le maemo', 'le maikarabelo', 'le mathata', 'le mekgwa', 'le mo', 'le molao', 'le mong', 'le mongwe', 'le motho', 'le nako', 'le ngwaga', 'le nna', 'le nngwe', 'le sa', 'le se', 'le seabe', 'le seabo', 'le taolo', 'le teng', 'le tla', 'le tokelo', 'le tsa', 'le tsamaiso', 'le tse', 'le tshwanetse', 'le tsona', 'le tša', 'le wena', 'le ya', 'le ye', 'le yena', 'le yo', 'le yona', 'leago', 'leano', 'leano la', 'lebaka', 'lebaka la', 'lebaka le', 'lebakeng', 'lebakeng la', 'lebelela', 'lebelo', 'lebitso', 'lebyi', 'lede', 'lede van', 'leerders', 'lefa', 'lefapha', 'lefapha la', 'lefapha le', 'lefapheng', 'lefapheng la', 'lefase', 'lefatshe', 'lefatshe le', 'lefatsheng', 'lefe', 'lefelo', 'lefelo la', 'lefelo leo', 'lefelong', 'lefelong la', 'legal', 'legislation', 'lego', 'lego gona', 'leha', 'lehlakore', 'leina', 'leka', 'lekala', 'lekala la', 'lekana', 'lekaneng', 'lekgetho', 'lekgotla', 'lekgotla la', 'lekgotla le', 'lekgotleng', 'lekgotleng la', 'lekola', 'lekwalo', 'lelapa', 'leli', 'lelo', 'leloko', 'leloko la', 'lemali', 'lembe', 'lemitsi', 'lemoga', 'lena', 'lenane', 'lenaneo', 'lenaneo la', 'lenaneo le', 'lenaneong', 'leng', 'leng teng', 'lengolo', 'lengu', 'lengwalo', 'lengwe', 'lengwe le', 'lenyalo', 'lenyalo la', 'leo', 'leo le', 'lephata', 'lerato', 'leri', 'leri nga', 'leri ri', 'lesedi', 'lesi', 'lesicelo', 'leso', 'leswaku', 'leswaku ku', 'leswaku va', 'leswi', 'leswi nga', 'leswi swi', 'letho', 'lethu', 'leti', 'leti nga', 'leti ti', 'letingu', 'letinye', 'letinyenti', 'letlha', 'letona', 'letona le', 'letsatsi', 'letsatsi la', 'letšatši', 'letšatši la', 'level', 'lewer', 'lexi', 'lexi nga', 'lexi xi', 'leyi', 'leyi nga', 'leyi yi', 'leyo', 'lezi', 'li', 'libe', 'licala', 'lichaza', 'lid', 'lid van', 'life', 'lihhovisi', 'lilunga', 'limpopo', 'linani', 'line', 'linye', 'litiko', 'live', 'liya', 'lizinga', 'lo', 'lo mthetho', 'loago', 'local', 'lokela', 'lokela ho', 'lokela hore', 'lokelang', 'lokelang ho', 'loketseng', 'lokha', 'lokho', 'lokhu', 'loko', 'loko ku', 'loko swi', 'loko va', 'loku', 'lokuba', 'lokufaka', 'lokuqala', 'lokusebenza', 'lokwenza', 'lolu', 'lolwazi', 'lomkhandlu', 'lomsebenzi', 'lomthetho', 'lomunye', 'lomutsi', 'lona', 'long', 'lonke', 'loo', 'lowo', 'lowu', 'lowu nga', 'lowu wu', 'loyi', 'loyi nga', 'loyo', 'lu', 'luambo', 'lufu', 'luhlelo', 'lula', 'lulamisa', 'lulwimi', 'lushaka', 'lushaka ya', 'lusito', 'lwa', 'lwakhe', 'lwati', 'lwe', 'ma', 'maafrika', 'maak', 'maana', 'maande', 'maano', 'maanḓa', 'maar', 'maatla', 'maatskaplike', 'mabaka', 'mabakeng', 'mabapi', 'mabapi le', 'mabasa', 'mabedi', 'mabindzu', 'macondzana', 'made', 'madi', 'madzangano', 'madzina', 'maemo', 'maemong', 'maendlelo', 'mafambiselo', 'mafambiselo ya', 'mafapha', 'mafelelo', 'mafelo', 'mafelong', 'mafhungo', 'mafoko', 'mag', 'maga', 'magareng', 'magareng ga', 'magato', 'mahlo', 'mahungu', 'maikaelelo', 'maikarabelo', 'maikemisetso', 'maikemišetšo', 'maikutlo', 'maina', 'maintenance', 'maipfi', 'maitele', 'maitlhomo', 'makala', 'make', 'makgotla', 'making', 'mala', 'malatsi', 'maleba', 'malebana', 'malebana le', 'malembe', 'mali', 'mali leyi', 'mali ya', 'maloko', 'malugana', 'malugana na', 'malunga', 'malungana', 'man', 'management', 'mananeo', 'mandela', 'mang', 'mangwalo', 'mangwe', 'mani', 'manje', 'manner', 'mantswe', 'mantšu', 'many', 'maphelo', 'maphodisa', 'mapholisa', 'maphorisa', 'maqondana', 'marito', 'market', 'masepala', 'mashango', 'masheleni', 'masia', 'masiku', 'masiku ya', 'masimo', 'masipala', 'masungulo', 'mathata', 'mathomo', 'mati', 'matiko', 'matiko ya', 'matimba', 'matirhelo', 'matirhiselo', 'matjhaba', 'matla', 'matlo', 'matlole', 'matlotlo', 'matsalwa', 'matsatsi', 'matter', 'matters', 'matšatši', 'mavu', 'may', 'may be', 'mayelana', 'mayelana na', 'maḓi', 'maḓuvha', 'maṅwe', 'mbadelo', 'mbadelo ya', 'mbangu', 'mbekanyamushumo', 'mbekanyamushumo dza', 'mbekanyamushumo ya', 'mbeu', 'mbilaelo', 'mbingano', 'mbuelo', 'mbuyelo', 'me', 'means', 'mec', 'media', 'mediese', 'mediro', 'mediro ya', 'meer', 'meer as', 'meeste', 'meeting', 'meetse', 'mefuta', 'mehato', 'mehla', 'mehlodi', 'mekgatlho', 'mekgatlo', 'mekgatlo ya', 'mekgwa', 'mekgwa ya', 'melao', 'melao ya', 'melato', 'melawana', 'melawana ya', 'member', 'members', 'members of', 'meng', 'mengwaga', 'mengwaga ye', 'mengwe', 'meno', 'mense', 'menyetla', 'meralo', 'merero', 'merero ya', 'mesebetsi', 'mesebetsi ya', 'met', 'met die', 'methopo', 'methopo ya', 'metsi', 'metsi le', 'mešomo', 'mešomo ya', 'mfanelo', 'mfanelo ya', 'mfanelo yo', 'mfumo', 'mfumo wa', 'mhaka', 'mhaka leyi', 'mhaka ya', 'mi', 'miehleketo', 'migingiriko', 'mihasho', 'mihumbulo', 'milawu', 'milawu ya', 'milayo', 'milayo ya', 'million', 'mimbuyelo', 'mina', 'minhlangano', 'minister', 'minister of', 'minkarhi', 'minongonoko', 'mintirho', 'mintirho ya', 'mintlawa', 'miraḓo', 'miraḓo ya', 'misava', 'mishumo', 'mishumo ya', 'miv', 'miṅwaha', 'miṅwaha ya', 'miṅwedzi', 'mmalwa', 'mmasepala', 'mme', 'mme ba', 'mme di', 'mme go', 'mme ha', 'mme ho', 'mme ka', 'mme ke', 'mme le', 'mme re', 'mme se', 'mmele', 'mmeleng', 'mmidi', 'mmogo', 'mmogo le', 'mmoho', 'mmoho le', 'mmu', 'mmuso', 'mmuso wa', 'mmušo', 'mnr', 'mntu', 'mo', 'mo aforika', 'mo go', 'mo karolong', 'mo lebakeng', 'mo lefelong', 'mo mabakeng', 'mo maemong', 'mo nakong', 'mo ngwageng', 'mo pakeng', 'mobu', 'modiredi', 'modulasetulo', 'moemedi', 'moet', 'moet die', 'moet jy', 'moet word', 'mofuta', 'mofuta wa', 'mogolo', 'mohlala', 'mohlanka', 'mohlankedi', 'mohlankedi wa', 'mohola', 'mohuta', 'moithuti', 'moka', 'mokaedi', 'mokga', 'mokgatlho', 'mokgatlho wa', 'mokgatlo', 'mokgatlo wa', 'mokgopedi', 'mokgwa', 'mokgwa wa', 'mokgwa wo', 'mokopi', 'mola', 'molao', 'molao go', 'molao le', 'molao ona', 'molao ono', 'molao wa', 'molao wo', 'molaodi', 'molaong', 'molaotheo', 'molaotheo wa', 'molato', 'molawana', 'molawana wa', 'molekane', 'molemi', 'molemo', 'molomo', 'mona', 'mong', 'mong le', 'mong wa', 'mongwe', 'mongwe le', 'mongwe wa', 'mongwe yo', 'monna', 'month', 'months', 'monyetla', 'moo', 'moo go', 'moo ho', 'moontlik', 'mopresidente', 'mora', 'morago', 'morago ga', 'moralo', 'moralo wa', 'morao', 'more', 'morero', 'morero wa', 'moruo', 'mosadi', 'mosebetsi', 'mosebetsi wa', 'mosebetsing', 'most', 'motheo', 'motheo wa', 'motho', 'motho ka', 'motho ofe', 'motho wa', 'motho ya', 'motho yo', 'motho yoo', 'motlakase', 'motlhankedi', 'motlhankedi wa', 'motlhatlhobi', 'motse', 'moya', 'mošomi', 'mošomo', 'mošomo wa', 'mpfumelelo', 'mpimo', 'mpimo wa', 'mpumalanga', 'mr', 'msebenzi', 'mthetho', 'mu', 'mu we', 'mudagasi', 'mudyondzi', 'mudzulapo', 'mufumakadzi', 'muganga', 'muhasho', 'muhasho wa', 'muholo', 'muhulwane', 'muhumbeli', 'mulandu', 'mulanguli', 'mulayo', 'mulayo wa', 'mulayoni', 'mulayotewa', 'mulayotibe', 'mulenzhe', 'mulenzhe kha', 'munhu', 'munhu loyi', 'munhu unwana', 'municipal', 'municipality', 'munisipale', 'munisipaliteit', 'munna', 'muno', 'muntu', 'munwe', 'munye', 'muofisi', 'muofisiri', 'muofisiri wa', 'muphuresidennde', 'mupo', 'murahu', 'murahu ha', 'murhijisitara', 'mushumi', 'mushumo', 'mushumo wa', 'musi', 'musi hu', 'musi tshi', 'musi vha', 'must', 'must be', 'mutakalo', 'mutevhe', 'muthelo', 'muthihi', 'mutholi', 'muthori', 'muthu', 'muthu ane', 'mutirhi', 'muvhuso', 'muvhuso wa', 'muwe', 'muḓagasi', 'muṅwe', 'muṅwe na', 'mvelaphanḓa', 'mveledziso', 'mvelele', 'mvume', 'my', 'na', 'na die', 'na dza', 'na iṅwe', 'na kha', 'na ku', 'na le', 'na mfanelo', 'na muṅwe', 'na nga', 'na nnyi', 'na swona', 'na unwana', 'na uri', 'na vha', 'na ya', 'naa', 'nabantu', 'nabanye', 'nabasebenzi', 'nabo', 'nac', 'nadat', 'naga', 'nageng', 'nago', 'nago le', 'naha', 'naha le', 'naheng', 'naho', 'nahone', 'nahone vha', 'nakambe', 'nako', 'nako le', 'nako ya', 'nakong', 'nakong ya', 'nakube', 'nakwana', 'nalapho', 'naleyo', 'nalo', 'nalokho', 'nalokhu', 'nama', 'namandla', 'namanye', 'namasiko', 'name', 'namkha', 'nandzu', 'nang', 'nang le', 'nangabe', 'nangona', 'nanobe', 'nanoma', 'nanyana', 'nasionale', 'naswona', 'national', 'national treasury', 'navorsing', 'nawe', 'nawo', 'nawu', 'nawu lowu', 'nawu wa', 'nawumbisi', 'nawuphi', 'nawuphi na', 'naya', 'naye', 'nayikuthi', 'nayiphi', 'nayiphi na', 'nayo', 'nazo', 'nchumu', 'ncono', 'ndaela', 'ndaela ya', 'ndambedzo', 'ndangulo', 'ndangulo ya', 'ndawo', 'ndayotewa', 'ndeme', 'ndhawu', 'ndi', 'ndila', 'ndinganyiso', 'ndingo', 'ndivho', 'ndivho ya', 'ndlela', 'ndlela leyi', 'ndlela ya', 'ndlela yo', 'ndza', 'ndzawulo', 'ndzawulo ya', 'ndzi', 'ndzi nga', 'ndzi ta', 'ne', 'ne ba', 'ne le', 'necessary', 'need', 'neela', 'neem', 'nekutsi', 'nelinye', 'nemali', 'nemibandela', 'neminye', 'nemisebenzi', 'nendlela', 'neng', 'nenye', 'nepo', 'net', 'netefatsa', 'netefatsa gore', 'netefatsa hore', 'netefatša', 'netefatša gore', 'new', 'nezidingo', 'nezinye', 'nga', 'nga endla', 'nga fhasi', 'nga ha', 'nga ita', 'nga itwa', 'nga kha', 'nga kona', 'nga maanḓa', 'nga mulayo', 'nga murahu', 'nga na', 'nga ni', 'nga nnḓa', 'nga nḓila', 'nga ri', 'nga riki', 'nga si', 'nga swi', 'nga ta', 'nga tshifhinga', 'nga va', 'nga vha', 'ngaba', 'ngabe', 'ngaka', 'ngakho', 'ngako', 'ngale', 'ngalesikhatsi', 'ngalinye', 'ngalo', 'ngalokho', 'ngamandla', 'ngamanye', 'ngamnye', 'ngamunye', 'ngani', 'ngaphakathi', 'ngaphambi', 'ngaphambi kokuba', 'ngaphambili', 'ngaphandle', 'ngaphandle kokuba', 'ngaphandle uma', 'ngaphansi', 'ngaphasi', 'ngaphezu', 'ngaphezulu', 'ngasinye', 'ngaso', 'ngata', 'ngauralo', 'ngauri', 'ngawo', 'ngayo', 'ngazo', 'ngcono', 'nge', 'ngeke', 'ngekhatsi', 'ngekulandzela', 'ngekusho', 'ngekutsi', 'ngekuya', 'ngelanga', 'ngelwazi', 'ngemali', 'ngemisebenzi', 'ngemuva', 'ngemva', 'ngenca', 'ngendlela', 'ngengqondo', 'ngenhloso', 'ngenjongo', 'ngenxa', 'ngenyanga', 'ngenye', 'ngesikhathi', 'ngesikhatsi', 'ngetulu', 'ngexesha', 'nghena', 'nghenelela', 'nghenisa', 'ngimuphi', 'ngisho', 'ngo', 'ngoba', 'ngobe', 'ngoko', 'ngokomthetho', 'ngoku', 'ngokuba', 'ngokuhambisana', 'ngokukhambisana', 'ngokulandela', 'ngokulandisa', 'ngokuphathelene', 'ngokusebenzisa', 'ngokusemthethweni', 'ngokushesha', 'ngokuthi', 'ngokuya', 'ngokwesigaba', 'ngola', 'ngolwazi', 'ngombana', 'ngomhlaka', 'ngomlomo', 'ngomu', 'ngongorego', 'ngonyaka', 'ngopfu', 'ngosuku', 'ngqo', 'ngu', 'ngubani', 'ngumuphi', 'ngusiphi', 'nguye', 'nguyiphi', 'ngwaga', 'ngwaga le', 'ngwaga wa', 'ngwageng', 'ngwala', 'ngwana', 'ngwana wa', 'nhlamuselo', 'nhlangano', 'nhlangano wa', 'nhlayiso', 'nhlayo', 'nhloko', 'nhluvukiso', 'nhluvukiso wa', 'ni', 'ni ku', 'ni tshi', 'nie', 'nie as', 'nie die', 'nie en', 'nie maar', 'nila', 'njalo', 'njani', 'nje', 'njengoba', 'njengobe', 'njengoko', 'njengombana', 'njll', 'nka', 'nkarhi', 'nkarhi lowu', 'nkarhi wa', 'nkarhi wo', 'nkatsakanyo', 'nkatsakanyo nkomiso', 'nkoka', 'nkomiso', 'nkonzo', 'nkqubo', 'nkulu', 'nkwama', 'nna', 'nna jalo', 'nna ke', 'nna le', 'nna teng', 'nna ya', 'nnang', 'nnda', 'nne', 'nne le', 'nnete', 'nngwe', 'nngwe go', 'nngwe le', 'nngwe ya', 'nnyane', 'nnyi', 'nnyi na', 'nnzhi', 'nnḓa', 'nnḓa ha', 'no', 'no of', 'nobe', 'nobe ngabe', 'nodig', 'nofana', 'nog', 'nokho', 'noko', 'nokuba', 'nokusebenza', 'nokuthi', 'nokwenza', 'noma', 'nombolo', 'nomboro', 'nomboro ya', 'nome', 'nomoro', 'nomoro ya', 'nomsebenzi', 'nomthetho', 'nomunye', 'non', 'nongonoko', 'nongonoko wa', 'noordwes', 'noordwes universiteit', 'not', 'not be', 'notice', 'nou', 'nseketelo', 'ntate', 'ntho', 'ntirho', 'ntirho lowu', 'ntirho wa', 'ntiyiso', 'ntlafatsa', 'ntlawa', 'ntle', 'ntle ga', 'ntle le', 'ntlha', 'ntlha ya', 'nto', 'ntolovelo', 'ntse', 'ntsena', 'ntseng', 'ntsengo', 'ntsha', 'ntshetsa', 'ntshetsa pele', 'ntshetsopele', 'ntshetsopele ya', 'ntsongo', 'ntwanano', 'ntši', 'number', 'number of', 'nuwe', 'nwa', 'nwana', 'nwu', 'nxaxheba', 'nyaka', 'nyaka go', 'nyakago', 'nyakegago', 'nyaluwo', 'nyambo', 'nyika', 'nyikiwa', 'nyikiweke', 'nyimele', 'nḓila', 'nḓivhadzo', 'nṱha', 'of', 'of act', 'of all', 'of an', 'of any', 'of die', 'of haar', 'of its', 'of section', 'of south', 'of subsection', 'of such', 'of sy', 'of that', 'of the', 'of this', 'ofake', 'ofe', 'ofe goba', 'ofe kapa', 'offence', 'office', 'officer', 'official', 'ofisi', 'ofisi ya', 'ofising', 'ofisini', 'ofuna', 'okanye', 'okanye ke', 'oko', 'oku', 'okufanele', 'okukhulunywa', 'okumele', 'olu', 'om', 'om die', 'om dit', 'om hulle', 'om te', 'omdat', 'omgewing', 'omkhulu', 'omnye', 'omunye', 'omunye nomunye', 'omutjha', 'on', 'on the', 'ona', 'onder', 'ondersoek', 'one', 'onke', 'onkhe', 'only', 'ono', 'ons', 'ontvang', 'ontwikkel', 'ontwikkeling', 'oo', 'ook', 'ook die', 'oor', 'oor die', 'oorweeg', 'op', 'op die', 'openbare', 'operation', 'operative', 'ophathelene', 'ophathelene nalokhu', 'ophethe', 'opleiding', 'opsigte', 'opsigte van', 'or', 'or any', 'or her', 'or the', 'or to', 'order', 'order to', 'osebenza', 'other', 'othile', 'otlhe', 'our', 'out', 'over', 'over the', 'owenza', 'own', 'paka', 'pakeng', 'pakeng tsa', 'palamende', 'palamente', 'palamente ka', 'palo', 'palo ya', 'paper', 'papila', 'paragraph', 'parliament', 'part', 'part of', 'particular', 'parties', 'party', 'patlisiso', 'pay', 'pedi', 'pegelo', 'pela', 'pele', 'pele ga', 'pele go', 'pele ho', 'pele ka', 'pelo', 'peo', 'people', 'per', 'per cent', 'performance', 'period', 'person', 'person who', 'persone', 'personeel', 'persons', 'persoon', 'pfa', 'pfanelo', 'pfanelo dza', 'pfumelela', 'pfuna', 'pfuneta', 'pfunzo', 'phahameng', 'phakathi', 'phalamennde', 'phambi', 'phambi kokuba', 'phambili', 'phana', 'phanda', 'phansi', 'phantsi', 'phanḓa', 'phanḓa ha', 'phanḓa na', 'pharakano', 'phasi', 'phela', 'phemiti', 'phemiti ya', 'phepelo', 'phetha', 'phethahatso', 'phezu', 'phezulu', 'phihlelelo', 'phitlhelelo', 'pholisi', 'pholisi ya', 'phoso', 'phukha', 'pjec', 'plaas', 'plaaslike', 'place', 'plan', 'plek', 'poelo', 'polelo', 'polelo ya', 'police', 'policies', 'policy', 'poraefete', 'porofense', 'porojeke', 'poso', 'possible', 'post', 'potchefstroom', 'potso', 'power', 'powers', 'premier', 'prescribed', 'president', 'presidente', 'pretoria', 'private', 'probleme', 'proceedings', 'process', 'produsente', 'profense', 'program', 'programme', 'programmes', 'project', 'projek', 'property', 'proses', 'protection', 'provense', 'provide', 'provided', 'provides', 'province', 'provinces', 'provincial', 'provinsiale', 'provinsie', 'provinsies', 'provision', 'provisions', 'provisions of', 'public', 'publiek', 'pula', 'pulana', 'pulane', 'pulani', 'puo', 'puo ya', 'purpose', 'purposes', 'purposes of', 'puso', 'qala', 'qeto', 'quality', 'ra', 'ra hina', 'raad', 'ralo', 'rata', 'rate', 're', 're ka', 're ke', 're kha', 're na', 're tla', 'received', 'reeds', 'referred', 'referred to', 'reg', 'regard', 'regering', 'regional', 'register', 'registered', 'registrar', 'registration', 'regte', 'regulations', 'reka', 'rekhodo', 'rekoto', 'related', 'relevant', 'rena', 'report', 'republic', 'republic of', 'request', 'required', 'requirements', 'research', 'respect', 'respect of', 'responsible', 'result', 'revenue', 'review', 'rhumela', 'ri', 'ri karhi', 'ri ku', 'ri na', 'ri nga', 'ri tshi', 'ri ḓo', 'right', 'rights', 'rihanyo', 'riki', 'rileng', 'rin', 'ringana', 'ringeta', 'rinwana', 'ririmi', 'risk', 'rixaka', 'ro', 'road', 'rol', 'role', 'romela', 'romelwa', 'rona', 'rules', 'rumela', 'rumelwa', 'ruri', 'ruta', 'sa', 'sa go', 'sa ho', 'sa le', 'sa ntse', 'sa zwe', 'saam', 'saam met', 'saathu', 'saathu fhela', 'sadc', 'saense', 'safety', 'said', 'saintsi', 'sake', 'sakhe', 'sakho', 'sal', 'sal die', 'sal word', 'sala', 'sale', 'same', 'sandla', 'saps', 'sars', 'schedule', 'school', 'se', 'se ba', 'se be', 'se go', 'se ka', 'se ke', 'se le', 'se na', 'se nang', 'se sa', 'se se', 'se seng', 'se sengwe', 'se tla', 'seabe', 'seabo', 'sebaka', 'sebaka sa', 'sebakeng', 'sebakeng sa', 'sebedisa', 'sebediswa', 'sebediswang', 'sebele', 'sebetsa', 'sebetsang', 'seboka', 'sebolelo', 'sebopego', 'second', 'section', 'section of', 'sector', 'security', 'seemo', 'sefe', 'sego', 'segolo', 'sehlooho', 'sehloohong', 'sehlopha', 'sehlopha sa', 'sekao', 'sekaseka', 'sekema', 'seker', 'seketela', 'sekolo', 'sekolong', 'sekutsi', 'sele', 'selegae', 'selehae', 'selemo', 'selemong', 'self', 'selo', 'semmuso', 'semmušo', 'semolao', 'semtsetfo', 'sena', 'sena se', 'seng', 'sengwalwa', 'sengwe', 'sengwe le', 'sengwe se', 'seno', 'sentle', 'seo', 'seo se', 'sepe', 'sepheo', 'sepheo sa', 'sephetho', 'sephetho sa', 'sephiri', 'serori', 'service', 'services', 'set', 'setheo', 'setho', 'setho sa', 'setifikeiti', 'setifikeiti sa', 'setjhaba', 'setjhabeng', 'setlamo', 'setlhopha', 'setlhopha sa', 'setse', 'setsha', 'setso', 'setšhaba', 'setšhaba ka', 'setšhaba le', 'setšhaba sa', 'setšhabeng', 'setšo', 'shall', 'shall be', 'shango', 'share', 'she', 'sheba', 'shela', 'shela mulenzhe', 'should', 'should be', 'shuma', 'shumisa', 'shumisana', 'shumiswa', 'shumiswa ha', 'si', 'si hela', 'si na', 'sia', 'siameng', 'sibawa', 'sibe', 'sibonelo', 'sicelo', 'sifo', 'sigaba', 'sikhathi', 'sikhatsi', 'sikhungo', 'siku', 'siku leri', 'siku ra', 'simo', 'simolola', 'since', 'sincumo', 'sinye', 'sireletsa', 'sirhelela', 'sisebenti', 'siseko', 'sisiteme', 'sisiteme ya', 'site', 'sitifiketi', 'sive', 'sivumelwano', 'siya', 'skep', 'skills', 'skool', 'slegs', 'sluit', 'small', 'sms', 'so', 'so ja', 'so nie', 'social', 'sodanige', 'sodat', 'soke', 'sokobana', 'sokou', 'sokuba', 'sokuthi', 'some', 'somsebenzi', 'somthetho', 'sona', 'sonder', 'songo', 'sonke', 'sonkhe', 'soos', 'sorg', 'sou', 'south', 'south africa', 'south african', 'speaker', 'spending', 'spesiale', 'spesifieke', 'staan', 'staat', 'staff', 'standards', 'state', 'statements', 'status', 'stel', 'strategy', 'subartikel', 'subject', 'subject to', 'submit', 'subsection', 'such', 'such as', 'suid', 'suid afrika', 'suid afrikaanse', 'suka', 'suka eka', 'sukela', 'sumbedza', 'sungula', 'sungula ku', 'supa', 'support', 'swa', 'swa mfumo', 'swa nawu', 'swa nkoka', 'swakudya', 'swana', 'swana le', 'swanela', 'swanetše', 'swanetše go', 'swanetšego', 'swanetšego go', 'swara', 'sweswi', 'swi', 'swi fanele', 'swi nga', 'swi ri', 'swi ta', 'swi vula', 'swiboho', 'swifundzhankulu', 'swika', 'swikelela', 'swikongomelo', 'swilaveko', 'swilaveko swa', 'swilo', 'swimila', 'swin', 'swin wana', 'swinene', 'swinwana', 'swipimelo', 'swirho', 'swirho swa', 'switirhisiwa', 'swivilelo', 'swivutiso', 'swiyenge', 'swiyimo', 'swo', 'swo tala', 'swona', 'sy', 'system', 'systems', 'sê', 'ta', 'ta ku', 'ta le', 'ta nkoka', 'ta va', 'taba', 'taba ya', 'tabo', 'taelo', 'taelo ya', 'take', 'takhe', 'tala', 'tala ku', 'tama', 'tani', 'tani hi', 'tanihi', 'tano', 'tans', 'taolo', 'taolo ya', 'tata', 'tax', 'tb', 'te', 'te doen', 'te maak', 'te stel', 'te verseker', 'te wees', 'te word', 'tea', 'tea vha', 'teaho', 'technology', 'tee', 'teen', 'teen die', 'tefo', 'teka', 'tekano', 'tekanyetso', 'tekatekano', 'tekiwa', 'teko', 'tekolo', 'telele', 'tema', 'temana', 'temo', 'temokerasi', 'temothuo', 'ten', 'ten einde', 'ten opsigte', 'tenda', 'tendela', 'tendelwa', 'teng', 'term', 'terms', 'terms of', 'terwyl', 'tevhedzwa', 'tevhelaho', 'tevhelwa', 'thabang', 'thaidzo', 'than', 'thandela', 'tharo', 'that', 'that the', 'thata', 'the', 'the act', 'the board', 'the case', 'the commission', 'the company', 'the constitution', 'the council', 'the country', 'the court', 'the date', 'the department', 'the director', 'the financial', 'the first', 'the government', 'the minister', 'the national', 'the person', 'the province', 'the provincial', 'the provisions', 'the public', 'the registrar', 'the relevant', 'the report', 'the republic', 'the same', 'the south', 'the state', 'the total', 'the world', 'their', 'thekenoloji', 'thekgo', 'theko', 'them', 'thendelano', 'thendelo', 'thendelo ya', 'thepa', 'there', 'there is', 'thereof', 'these', 'they', 'thibela', 'thibelo', 'thikhedzo', 'this', 'this act', 'this is', 'this section', 'thivhela', 'thoko', 'thola', 'thoma', 'thoma go', 'thoma shuma', 'thomiwa', 'those', 'thoto', 'three', 'through', 'thulaganyo', 'thulaganyo ya', 'thundu', 'thusa', 'thuso', 'thuso ya', 'thuto', 'thuto le', 'thuto ya', 'thuša', 'thušo', 'thušo ya', 'ti', 'ti nga', 'ti ta', 'tihakelo', 'tiisa', 'tikedza', 'tiko', 'tiko ra', 'tikologo', 'tikologong', 'tikoloho', 'tilwimi', 'timali', 'time', 'timfanelo', 'timfanelo ta', 'timhaka', 'timhaka ta', 'tin', 'tin wana', 'tindhawu', 'tindlela', 'tindlu', 'tindzimi', 'tinhlelo', 'tintfo', 'tiragalo', 'tiragatso', 'tirelo', 'tirelo ya', 'tirha', 'tirhaka', 'tirhisa', 'tirhisiwa', 'tiriso', 'tiriso ya', 'tirisong', 'tirišo', 'tirišo ya', 'tiro', 'tiro ya', 'tiva', 'tivisa', 'tiwaho', 'tiyisisa', 'tiyisisa leswaku', 'tjena', 'tjhelete', 'tla', 'tla ba', 'tla go', 'tla nna', 'tlaa', 'tlago', 'tlakusa', 'tlaleletso', 'tlameha', 'tlameha ho', 'tlamela', 'tlamelo', 'tlang', 'tlasa', 'tlase', 'tlase ga', 'tlatsa', 'tle', 'tlhabollo', 'tlhabollo ya', 'tlhabololo', 'tlhabololo ya', 'tlhagelela', 'tlhagisa', 'tlhago', 'tlhahiso', 'tlhahisoleseding', 'tlhahlo', 'tlhaloganya', 'tlhalosa', 'tlhaloso', 'tlhela', 'tlhelo', 'tlhoka', 'tlhokega', 'tlhokegang', 'tlhoko', 'tlhokomelo', 'tlhokomelo ya', 'tlhomamisa', 'tlile', 'tlisa', 'tlo', 'tloga', 'tloga ka', 'tlogela', 'tlogo', 'tloha', 'tlolo', 'tlula', 'tlwaelo', 'to', 'to any', 'to be', 'to ensure', 'to in', 'to make', 'to provide', 'to the', 'toe', 'toegang', 'toegeken', 'toepassing', 'toerisme', 'together', 'toka', 'tokafatsa', 'tokelo', 'tokelo ya', 'tokologo', 'tokomane', 'tona', 'tona ka', 'tona ya', 'tonkhe', 'tot', 'tot die', 'tota', 'total', 'totale', 'tou', 'trade', 'training', 'transport', 'treasury', 'tree', 'trust', 'tsa', 'tsa batho', 'tsa bohlokwa', 'tsa bona', 'tsa ditjhelete', 'tsa go', 'tsa hao', 'tsa ho', 'tsa ka', 'tsa metsi', 'tsa molao', 'tsa puo', 'tsa rona', 'tsa semmuso', 'tsa setjhaba', 'tsa setšhaba', 'tsa thuto', 'tsa yona', 'tsala', 'tsalwa', 'tsamaisa', 'tsamaiso', 'tsamaiso ya', 'tsamaya', 'tsandzeka', 'tsarisa', 'tsaya', 'tse', 'tse di', 'tse ding', 'tse dingwe', 'tse dintsi', 'tse fapaneng', 'tse ka', 'tse ngata', 'tse pedi', 'tse tharo', 'tseba', 'tsebe', 'tsebiso', 'tsebišo', 'tsebo', 'tsela', 'tsela ya', 'tsena', 'tsena di', 'tsenela', 'tsenya', 'tseo', 'tseo ho', 'tsewa', 'tsha', 'tshama', 'tshanduko', 'tshe', 'tshebediso', 'tshebediso ya', 'tshebeletso', 'tshebeletso ya', 'tshebetso', 'tshebetso ya', 'tshebetsong', 'tshedimosetso', 'tshedimošo', 'tshehetsa', 'tshehetso', 'tshekatsheko', 'tsheko', 'tshela', 'tshelede', 'tshenyo', 'tsheo', 'tsheo ya', 'tshepedišo', 'tshepedišo ya', 'tshepetšo', 'tshi', 'tshi khou', 'tshi nga', 'tshifhinga', 'tshifhinga tsha', 'tshigwada', 'tshiimo', 'tshine', 'tshine tsha', 'tshiofisi', 'tshipembe', 'tshipiḓa', 'tshireletso', 'tshitatamennde', 'tshithu', 'tshitshavha', 'tshivhalo', 'tshivhalo tsha', 'tshivhumbeo', 'tshiwe', 'tshiṅwe', 'tsho', 'tshoṱhe', 'tshumelo', 'tshumelo dza', 'tshumelo ya', 'tshumisano', 'tshwanang', 'tshwanang le', 'tshwanela', 'tshwanela ho', 'tshwanelo', 'tshwanelo ya', 'tshwanetse', 'tshwanetse go', 'tshwanetse ho', 'tshwanetseng', 'tshwanetseng go', 'tshwara', 'tshwetso', 'tsini', 'tsireledzo', 'tsohle', 'tsona', 'tsona di', 'tsotlhe', 'tsotlhe tse', 'tsumbo', 'tsundzuka', 'tswa', 'tswa go', 'tswa kwa', 'tswa mo', 'tswang', 'tswela', 'tswela pele', 'tswelela', 'tsweletsa', 'tuelo', 'tumelelo', 'tumelelo ya', 'tumellano', 'tumello', 'tussen', 'twee', 'twisisa', 'two', 'tyd', 'tydens', 'tydperk', 'tša', 'tša bona', 'tša go', 'tša ka', 'tša maphelo', 'tša setšhaba', 'tše', 'tše bohlokwa', 'tše di', 'tše dingwe', 'tšea', 'tšeo', 'tšeo di', 'tšewa', 'tšhelete', 'tšhelete ya', 'tšhireletšo', 'tšhomišo', 'tšhomišo ya', 'tšona', 'tšwa', 'tšwa go', 'tšwela', 'tšwela pele', 'tšweletša', 'tšweletšo', 'tšweletšo ya', 'ube', 'ubudala', 'ubufakazi', 'ubujamo', 'ubungqina', 'udaba', 'ufake', 'ufanele', 'ufuna', 'uhlala', 'uhlelo', 'uhlobo', 'uhulumeni', 'uit', 'uit die', 'uit te', 'uitvoerende', 'ukuba', 'ukuba ngaba', 'ukubona', 'ukudla', 'ukudlula', 'ukufaka', 'ukufikelela', 'ukufumana', 'ukufunda', 'ukuhlola', 'ukunikela', 'ukuphathwa', 'ukuqinisekisa', 'ukusebenza', 'ukusebenzisa', 'ukusetyenziswa', 'ukusuka', 'ukusukela', 'ukuthatha', 'ukuthi', 'ukuthola', 'ukuthuthukisa', 'ukuya', 'ukuze', 'ukwakha', 'ukwazi', 'ukwenza', 'ukwenziwa', 'ulawulo', 'uluntu', 'ulwazi', 'uma', 'uma ngabe', 'umasipala', 'umbango', 'umbawi', 'umbiko', 'umbono', 'umbuso', 'umfundi', 'umhlaba', 'umhlangano', 'umkhandlu', 'umlawuli', 'umlingani', 'ummangalelwa', 'umnikazi', 'umnikeli', 'umnini', 'umnqopho', 'umntu', 'umntwana', 'umnyaka', 'umnyango', 'umongameli', 'umoya', 'umphakathi', 'umphathi', 'umrholwakho', 'umsebenti', 'umsebenzi', 'umshado', 'umthetho', 'umthetho ka', 'umthetho wenomboro', 'umthethosisekelo', 'umtimba', 'umtjhado', 'umtsetfo', 'umuntfu', 'umuntu', 'umyalelo', 'umzekelo', 'umzimba', 'un', 'un wana', 'under', 'under the', 'une', 'une wa', 'unelungelo', 'ungqongqoshe', 'united', 'universiteit', 'unless', 'unwana', 'unwana loyi', 'unwana na', 'unyaka', 'up', 'upon', 'urhulumende', 'urhulumente', 'uri', 'uri hu', 'uri ndi', 'uri ri', 'uri vha', 'us', 'use', 'usebenza', 'used', 'usizo', 'usuku', 'utfole', 'uthi', 'utlwisisa', 'utsi', 'uya', 'uye', 'uyo', 'uyu', 'uze', 'va', 'va fanele', 'va kona', 'va na', 'va nga', 'va ni', 'va ri', 'va ta', 'vaaki', 'vadyondzi', 'value', 'van', 'van die', 'van hierdie', 'van jou', 'van ons', 'van suid', 'van sy', 'van wana', 'vana', 'vanaf', 'vanhu', 'vanhu lava', 'vanhu va', 'vantshwa', 'various', 'vat', 'vatirhi', 'vatirhi va', 'veka', 'vekiwa', 'vekiweke', 'vele', 'veral', 'verantwoordelik', 'verband', 'verbeter', 'vereis', 'vergadering', 'verkry', 'verleen', 'veroorsaak', 'verseker', 'verseker dat', 'verskaf', 'verskillende', 'verwys', 'very', 'vha', 'vha hone', 'vha hu', 'vha kha', 'vha khou', 'vha kone', 'vha na', 'vha nga', 'vha sa', 'vha songo', 'vha tea', 'vha tshi', 'vha vha', 'vha vhe', 'vha zwi', 'vha ḓo', 'vhabebi', 'vhadzulapo', 'vhafumakadzi', 'vhana', 'vhane', 'vhane vha', 'vhashumi', 'vhashumi vha', 'vhaswa', 'vhathu', 'vhathu vha', 'vhathu vhane', 'vhaṅwe', 'vhe', 'vhe na', 'vhe vha', 'vhea', 'vho', 'vhona', 'vhona uri', 'vhone', 'vhoṱhe', 'vhu', 'vhu wa', 'vhudzulo', 'vhudzulo ha', 'vhugudisi', 'vhuimo', 'vhukati', 'vhukati ha', 'vhukoni', 'vhukuma', 'vhulanguli', 'vhulimi', 'vhulwadze', 'vhune', 'vhune ha', 'vhunzhi', 'vhunzhi ha', 'vhupo', 'vhushaka', 'vhusimamilayo', 'vhusimamilayo ha', 'vhutshilo', 'vhutsila', 'vhuya', 'vhuḓifhinduleli', 'vhuṱanzi', 'vier', 'vigs', 'vir', 'vir die', 'vito', 'vo', 'voldoen', 'volgende', 'volgens', 'volle', 'voltooi', 'vona', 'vona leswaku', 'vona va', 'voor', 'voordat', 'voorkom', 'voorsien', 'voorsiening', 'vorm', 'vote', 'vroue', 'vufambisi', 'vugembuli', 'vugevenga', 'vuhlayiseki', 'vukati', 'vukorhokeri', 'vula', 'vula leswaku', 'vulavula', 'vulawuri', 'vulawuri bya', 'vuleteri', 'vumbhoni', 'vumbiwa', 'vunḓu', 'vuswikoti', 'vutihlamuleri', 'vutivi', 'vutomi', 'vuvabyi', 'vuxaka', 'vuxokoxoko', 'vyf', 'wa', 'wa afrika', 'wa bona', 'wa gago', 'wa gagwe', 'wa go', 'wa hae', 'wa ho', 'wa ka', 'wa ku', 'wa le', 'wa lushaka', 'wa masiku', 'wa metsi', 'wa molao', 'wa motheo', 'wa naga', 'wa naha', 'wa rixaka', 'wa setjhaba', 'wa setšhaba', 'wa vanhu', 'wa vhu', 'wa wa', 'wa wena', 'wa yena', 'wa zwa', 'waar', 'waar die', 'waarin', 'waarom', 'waarop', 'wabo', 'wakhe', 'wakho', 'walo', 'wamanzi', 'wami', 'wana', 'wana na', 'wanala', 'wanga', 'wanneer', 'wanneer die', 'want', 'was', 'wat', 'wat deur', 'wat die', 'wat in', 'wat jy', 'wat nie', 'wat op', 'wat vir', 'water', 'watter', 'wavelonkhe', 'wavho', 'wawe', 'wawo', 'way', 'wayo', 'we', 'we are', 'we have', 'we na', 'website', 'weer', 'wees', 'weet', 'wela', 'well', 'well as', 'wemisebenzi', 'wena', 'wenarha', 'wendawo', 'wenkantolo', 'wenomboro', 'wenze', 'were', 'werk', 'werkers', 'werknemers', 'wes', 'wes kaap', 'wes kaapse', 'wesifundazwe', 'wesintu', 'wesitjhaba', 'wesizwe', 'western', 'wet', 'wet op', 'wetfu', 'wetgewer', 'wetgewing', 'wethu', 'what', 'when', 'where', 'whether', 'which', 'which is', 'which the', 'while', 'who', 'wi', 'wie', 'wihi', 'wil', 'will', 'will be', 'with', 'with the', 'within', 'within the', 'without', 'wo', 'wo mongwe', 'woke', 'wolowo', 'women', 'womphakathi', 'womthetho', 'wona', 'wonke', 'wonkhe', 'woo', 'word', 'word as', 'word deur', 'word die', 'word en', 'word in', 'word moet', 'word nie', 'word om', 'word vir', 'work', 'world', 'would', 'writing', 'written', 'wu', 'wu nga', 'wu ta', 'wua', 'wun', 'wun wana', 'wunwana', 'www', 'wyse', 'xa', 'xa ku', 'xa le', 'xa nawu', 'xa wena', 'xa xa', 'xa xi', 'xana', 'xandla', 'xesha', 'xi', 'xi fanele', 'xi nga', 'xi ta', 'xiboho', 'xifundza', 'xifundzhankulu', 'xik', 'xikombelo', 'xikombelo xa', 'xikombiso', 'xikongomelo', 'xikongomelo xa', 'xileriso', 'ximfumo', 'xin', 'xin wana', 'xinwana', 'xiphemu', 'xiphemu xa', 'xirho', 'xirho xa', 'xitifiketi', 'xitiviso', 'xivilelo', 'xivumbeko', 'xiyenge', 'xiyenge xa', 'xiyengentsongo', 'xiyengentsongo xa', 'xiyimo', 'xiyimo xa', 'xo', 'xona', 'ya', 'ya aforika', 'ya afrika', 'ya ba', 'ya bana', 'ya batho', 'ya bo', 'ya bobedi', 'ya bohlokwa', 'ya bokgoni', 'ya bokone', 'ya bona', 'ya bophelo', 'ya bosetšhaba', 'ya dijo', 'ya dipuo', 'ya ditirelo', 'ya ditšhelete', 'ya eka', 'ya emahlweni', 'ya gago', 'ya gagwe', 'ya go', 'ya gore', 'ya hae', 'ya hao', 'ya hi', 'ya hina', 'ya ho', 'ya hore', 'ya ikonomi', 'ya ka', 'ya kgwebo', 'ya khumbelo', 'ya kopo', 'ya ku', 'ya kwa', 'ya le', 'ya lefapha', 'ya lekgotla', 'ya lona', 'ya lushaka', 'ya maemo', 'ya maleba', 'ya maloko', 'ya merero', 'ya metsi', 'ya mfumo', 'ya misava', 'ya mmuso', 'ya mmušo', 'ya mo', 'ya molao', 'ya molaotheo', 'ya motho', 'ya motlakase', 'ya mulayo', 'ya muvhuso', 'ya naha', 'ya nawu', 'ya nga', 'ya ngwaga', 'ya ngwana', 'ya pele', 'ya potchefstroom', 'ya puo', 'ya rena', 'ya rixaka', 'ya rona', 'ya selegae', 'ya setjhaba', 'ya setšhaba', 'ya swa', 'ya ta', 'ya taolo', 'ya thuto', 'ya tiko', 'ya tikologo', 'ya tirelo', 'ya tsa', 'ya tsamaiso', 'ya tshebetso', 'ya tsheko', 'ya tshumelo', 'ya tša', 'ya uri', 'ya vanhu', 'ya vha', 'ya vona', 'ya wena', 'ya ya', 'ya yona', 'ya yunibesiti', 'ya zwa', 'yabantu', 'yabo', 'yakhe', 'yakho', 'yaleyo', 'yalo', 'yamandla', 'yamanzi', 'yavho', 'yavho ya', 'yawe', 'yawo', 'yaye', 'yayo', 'ybb', 'ye', 'ye kgolo', 'ye nngwe', 'ye ya', 'year', 'years', 'yecandelo', 'yelinyenti', 'yemvelo', 'yena', 'yenengi', 'yeningi', 'yenza', 'yeo', 'yeo ka', 'yesewula', 'yesewula afrika', 'yesikhashana', 'yetfu', 'yethu', 'yi', 'yi fanele', 'yi nga', 'yi ta', 'yihi', 'yima', 'yimuphi', 'yin', 'yin wana', 'yini', 'yinwana', 'yinye', 'yisa', 'yisiphi', 'yo', 'yo ka', 'yo kurisa', 'yo mongwe', 'yo teaho', 'yohle', 'yoke', 'yokuba', 'yokuhlala', 'yokusebenza', 'yokuthi', 'yokwenza', 'yombuso', 'yomphakathi', 'yomthetho', 'yona', 'yona go', 'yona ka', 'yone', 'yonke', 'yonkhe', 'yoo', 'yotlhe', 'you', 'youth', 'yunibesiti', 'yunibesiti ya', 'yuniti', 'za', 'zabantu', 'zabo', 'zakhe', 'zakho', 'zawo', 'ze', 'zethu', 'zibe', 'ziya', 'zoke', 'zokusebenza', 'zoluntu', 'zomphakathi', 'zomthetho', 'zonke', 'zwa', 'zwa muno', 'zwa ndeme', 'zwa nga', 'zwa vha', 'zwauri', 'zwavhuḓi', 'zwe', 'zwe zwa', 'zwi', 'zwi amba', 'zwi nga', 'zwi tshi', 'zwibveledzwa', 'zwidodombedzwa', 'zwigwada', 'zwiimiswa', 'zwine', 'zwine vha', 'zwine zwa', 'zwino', 'zwishumiswa', 'zwithu', 'zwitshavha', 'zwiṅwe', 'zwo', 'zwone', 'šoma', 'šoma ka', 'šomiša', 'ḓa', 'ḓe', 'ḓea', 'ḓi', 'ḓivha', 'ḓivhadza', 'ḓo', 'ḓo vha', 'ḓuvha', 'ḽa', 'ḽa lushaka', 'ḽaisentsi', 'ḽi', 'ḽifhasi', 'ḽine', 'ḽo', 'ṅwaha', 'ṅwalisa', 'ṅwaliswa', 'ṅwana', 'ṅwedzi', 'ṋea', 'ṋewa', 'ṱhanziela', 'ṱhanziela ya', 'ṱho', 'ṱho ḓea', 'ṱo', 'ṱo ḓa', 'ṱoḓa', 'ṱun']\n"
     ]
    },
    {
     "data": {
      "text/plain": [
       "array([[0, 0, 0, ..., 0, 0, 0],\n",
       "       [0, 0, 0, ..., 0, 0, 0],\n",
       "       [0, 0, 0, ..., 0, 0, 0],\n",
       "       ...,\n",
       "       [0, 0, 0, ..., 0, 0, 0],\n",
       "       [0, 0, 0, ..., 0, 0, 0],\n",
       "       [0, 0, 0, ..., 0, 0, 0]])"
      ]
     },
     "execution_count": 35,
     "metadata": {},
     "output_type": "execute_result"
    }
   ],
   "source": [
    "print(vect.get_feature_names())\n",
    "X"
   ]
  },
  {
   "cell_type": "code",
   "execution_count": 36,
   "metadata": {},
   "outputs": [],
   "source": [
    "le = LabelEncoder()\n",
    "y_train = le.fit_transform(y_train)\n",
    "y_val = le.transform(y_val)"
   ]
  },
  {
   "cell_type": "code",
   "execution_count": 37,
   "metadata": {},
   "outputs": [
    {
     "data": {
      "text/plain": [
       "MultinomialNB()"
      ]
     },
     "execution_count": 37,
     "metadata": {},
     "output_type": "execute_result"
    }
   ],
   "source": [
    "nb = MultinomialNB()\n",
    "nb.fit(X_train,y_train)"
   ]
  },
  {
   "cell_type": "code",
   "execution_count": 39,
   "metadata": {},
   "outputs": [
    {
     "data": {
      "text/plain": [
       "0.9913636363636363"
      ]
     },
     "execution_count": 39,
     "metadata": {},
     "output_type": "execute_result"
    }
   ],
   "source": [
    "nb.score(X_val,y_val)"
   ]
  },
  {
   "cell_type": "markdown",
   "metadata": {},
   "source": [
    "## Train on full dataset"
   ]
  },
  {
   "cell_type": "code",
   "execution_count": 140,
   "metadata": {},
   "outputs": [],
   "source": [
    "vect_full = CountVectorizer(lowercase=True, max_features= 160000, analyzer='word', ngram_range=(1, 1))\n",
    "X_full = vect_full.fit_transform(train_df['text'].values.astype(str)).toarray()\n",
    "\n",
    "X_test = vect_full.transform(test_df['text'])"
   ]
  },
  {
   "cell_type": "code",
   "execution_count": 141,
   "metadata": {},
   "outputs": [],
   "source": [
    "le_full = LabelEncoder()\n",
    "y_full = train_df['lang_id']\n",
    "y_full = le_full.fit_transform(y_full)"
   ]
  },
  {
   "cell_type": "code",
   "execution_count": 142,
   "metadata": {},
   "outputs": [
    {
     "data": {
      "text/plain": [
       "MultinomialNB()"
      ]
     },
     "execution_count": 142,
     "metadata": {},
     "output_type": "execute_result"
    }
   ],
   "source": [
    "nb = MultinomialNB()\n",
    "nb.fit(X_full,y_full)"
   ]
  },
  {
   "cell_type": "code",
   "execution_count": 143,
   "metadata": {},
   "outputs": [],
   "source": [
    "y_pred = nb.predict(X_test)"
   ]
  },
  {
   "cell_type": "code",
   "execution_count": 144,
   "metadata": {},
   "outputs": [],
   "source": [
    "output = pd.DataFrame(le_full.inverse_transform(y_pred), columns = ['lang_id'])"
   ]
  },
  {
   "cell_type": "markdown",
   "metadata": {},
   "source": [
    "## Export results"
   ]
  },
  {
   "cell_type": "code",
   "execution_count": 145,
   "metadata": {},
   "outputs": [],
   "source": [
    "output.insert(0, column = 'index' ,value = test_df['index'].values)"
   ]
  },
  {
   "cell_type": "code",
   "execution_count": 146,
   "metadata": {},
   "outputs": [
    {
     "data": {
      "text/html": [
       "<div>\n",
       "<style scoped>\n",
       "    .dataframe tbody tr th:only-of-type {\n",
       "        vertical-align: middle;\n",
       "    }\n",
       "\n",
       "    .dataframe tbody tr th {\n",
       "        vertical-align: top;\n",
       "    }\n",
       "\n",
       "    .dataframe thead th {\n",
       "        text-align: right;\n",
       "    }\n",
       "</style>\n",
       "<table border=\"1\" class=\"dataframe\">\n",
       "  <thead>\n",
       "    <tr style=\"text-align: right;\">\n",
       "      <th></th>\n",
       "      <th>index</th>\n",
       "      <th>lang_id</th>\n",
       "    </tr>\n",
       "  </thead>\n",
       "  <tbody>\n",
       "    <tr>\n",
       "      <th>0</th>\n",
       "      <td>1</td>\n",
       "      <td>tsn</td>\n",
       "    </tr>\n",
       "    <tr>\n",
       "      <th>1</th>\n",
       "      <td>2</td>\n",
       "      <td>nbl</td>\n",
       "    </tr>\n",
       "    <tr>\n",
       "      <th>2</th>\n",
       "      <td>3</td>\n",
       "      <td>ven</td>\n",
       "    </tr>\n",
       "    <tr>\n",
       "      <th>3</th>\n",
       "      <td>4</td>\n",
       "      <td>ssw</td>\n",
       "    </tr>\n",
       "    <tr>\n",
       "      <th>4</th>\n",
       "      <td>5</td>\n",
       "      <td>afr</td>\n",
       "    </tr>\n",
       "    <tr>\n",
       "      <th>...</th>\n",
       "      <td>...</td>\n",
       "      <td>...</td>\n",
       "    </tr>\n",
       "    <tr>\n",
       "      <th>5677</th>\n",
       "      <td>5678</td>\n",
       "      <td>eng</td>\n",
       "    </tr>\n",
       "    <tr>\n",
       "      <th>5678</th>\n",
       "      <td>5679</td>\n",
       "      <td>nso</td>\n",
       "    </tr>\n",
       "    <tr>\n",
       "      <th>5679</th>\n",
       "      <td>5680</td>\n",
       "      <td>sot</td>\n",
       "    </tr>\n",
       "    <tr>\n",
       "      <th>5680</th>\n",
       "      <td>5681</td>\n",
       "      <td>sot</td>\n",
       "    </tr>\n",
       "    <tr>\n",
       "      <th>5681</th>\n",
       "      <td>5682</td>\n",
       "      <td>nbl</td>\n",
       "    </tr>\n",
       "  </tbody>\n",
       "</table>\n",
       "<p>5682 rows × 2 columns</p>\n",
       "</div>"
      ],
      "text/plain": [
       "      index lang_id\n",
       "0         1     tsn\n",
       "1         2     nbl\n",
       "2         3     ven\n",
       "3         4     ssw\n",
       "4         5     afr\n",
       "...     ...     ...\n",
       "5677   5678     eng\n",
       "5678   5679     nso\n",
       "5679   5680     sot\n",
       "5680   5681     sot\n",
       "5681   5682     nbl\n",
       "\n",
       "[5682 rows x 2 columns]"
      ]
     },
     "execution_count": 146,
     "metadata": {},
     "output_type": "execute_result"
    }
   ],
   "source": [
    "cwd = os.getcwd()\n",
    "path = cwd + \"/Submission21Sept3.csv\"\n",
    "output.to_csv(path, index = False)\n",
    "output"
   ]
  },
  {
   "cell_type": "code",
   "execution_count": null,
   "metadata": {},
   "outputs": [],
   "source": []
  },
  {
   "cell_type": "code",
   "execution_count": null,
   "metadata": {},
   "outputs": [],
   "source": []
  }
 ],
 "metadata": {
  "kernelspec": {
   "display_name": "Python 3",
   "language": "python",
   "name": "python3"
  },
  "language_info": {
   "codemirror_mode": {
    "name": "ipython",
    "version": 3
   },
   "file_extension": ".py",
   "mimetype": "text/x-python",
   "name": "python",
   "nbconvert_exporter": "python",
   "pygments_lexer": "ipython3",
   "version": "3.8.5"
  }
 },
 "nbformat": 4,
 "nbformat_minor": 4
}
